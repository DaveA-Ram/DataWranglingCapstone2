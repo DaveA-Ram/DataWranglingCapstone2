{
 "cells": [
  {
   "cell_type": "code",
   "execution_count": 1,
   "id": "4f2d39c6",
   "metadata": {},
   "outputs": [],
   "source": [
    "#%run Data_Wrangling_Capstone_Two-Copy4.ipynb"
   ]
  },
  {
   "cell_type": "code",
   "execution_count": 2,
   "id": "37f53f26",
   "metadata": {},
   "outputs": [],
   "source": [
    "#%run Exploratory_Data_Analysis_Capstone2.ipynb"
   ]
  },
  {
   "cell_type": "code",
   "execution_count": 3,
   "id": "092bf342",
   "metadata": {},
   "outputs": [],
   "source": [
    "#%run Capstone_Two_Pre-processing_and_Training_Data_Development.ipynb"
   ]
  },
  {
   "cell_type": "code",
   "execution_count": 13,
   "id": "4b1a43cc",
   "metadata": {},
   "outputs": [],
   "source": [
    "import pandas as pd\n",
    "import numpy as np\n",
    "from sklearn import tree, metrics\n",
    "from sklearn.model_selection import train_test_split\n",
    "from sklearn.linear_model import LogisticRegression\n",
    "from sklearn.metrics import accuracy_score\n",
    "import seaborn as sns\n",
    "sns.set_style(\"whitegrid\")\n",
    "sns.set_context(\"poster\")\n",
    "from sklearn.model_selection import KFold\n",
    "import matplotlib.pyplot as plt\n",
    "from sklearn.svm import SVC\n",
    "from sklearn.metrics import classification_report, confusion_matrix"
   ]
  },
  {
   "cell_type": "code",
   "execution_count": 14,
   "id": "47c9cb14",
   "metadata": {},
   "outputs": [
    {
     "data": {
      "text/html": [
       "<div>\n",
       "<style scoped>\n",
       "    .dataframe tbody tr th:only-of-type {\n",
       "        vertical-align: middle;\n",
       "    }\n",
       "\n",
       "    .dataframe tbody tr th {\n",
       "        vertical-align: top;\n",
       "    }\n",
       "\n",
       "    .dataframe thead th {\n",
       "        text-align: right;\n",
       "    }\n",
       "</style>\n",
       "<table border=\"1\" class=\"dataframe\">\n",
       "  <thead>\n",
       "    <tr style=\"text-align: right;\">\n",
       "      <th></th>\n",
       "      <th></th>\n",
       "      <th>ISO3</th>\n",
       "      <th>Countries and areas</th>\n",
       "      <th>Region</th>\n",
       "      <th>Sub-region</th>\n",
       "      <th>Development Regions</th>\n",
       "      <th>Total</th>\n",
       "      <th>Female</th>\n",
       "      <th>Male</th>\n",
       "      <th>Rural_Residence</th>\n",
       "      <th>Urban_Residence</th>\n",
       "      <th>Poorest_Wealth quintile</th>\n",
       "      <th>Second_Wealth quintile</th>\n",
       "      <th>Middle_Wealth quintile</th>\n",
       "      <th>Fourth_Wealth quintile</th>\n",
       "      <th>Richest_Wealth quintile</th>\n",
       "      <th>Data source</th>\n",
       "      <th>Time period</th>\n",
       "    </tr>\n",
       "  </thead>\n",
       "  <tbody>\n",
       "    <tr>\n",
       "      <th rowspan=\"5\" valign=\"top\">a</th>\n",
       "      <th>0</th>\n",
       "      <td>AFG</td>\n",
       "      <td>Afghanistan</td>\n",
       "      <td>SA</td>\n",
       "      <td>SA</td>\n",
       "      <td>Least Developed</td>\n",
       "      <td>40.0</td>\n",
       "      <td>56.0</td>\n",
       "      <td>25.0</td>\n",
       "      <td>46.0</td>\n",
       "      <td>23.0</td>\n",
       "      <td>50.0</td>\n",
       "      <td>48.0</td>\n",
       "      <td>49.0</td>\n",
       "      <td>33.0</td>\n",
       "      <td>21.0</td>\n",
       "      <td>DHS 2015</td>\n",
       "      <td>2015.0</td>\n",
       "    </tr>\n",
       "    <tr>\n",
       "      <th>1</th>\n",
       "      <td>ALB</td>\n",
       "      <td>Albania</td>\n",
       "      <td>ECA</td>\n",
       "      <td>EECA</td>\n",
       "      <td>More Developed</td>\n",
       "      <td>2.0</td>\n",
       "      <td>2.0</td>\n",
       "      <td>2.0</td>\n",
       "      <td>2.0</td>\n",
       "      <td>2.0</td>\n",
       "      <td>4.0</td>\n",
       "      <td>2.0</td>\n",
       "      <td>2.0</td>\n",
       "      <td>1.0</td>\n",
       "      <td>1.0</td>\n",
       "      <td>DHS 2017-18</td>\n",
       "      <td>2018.0</td>\n",
       "    </tr>\n",
       "    <tr>\n",
       "      <th>2</th>\n",
       "      <td>DZA</td>\n",
       "      <td>Algeria</td>\n",
       "      <td>MENA</td>\n",
       "      <td>MENA</td>\n",
       "      <td>Less Developed</td>\n",
       "      <td>6.0</td>\n",
       "      <td>6.0</td>\n",
       "      <td>5.0</td>\n",
       "      <td>8.0</td>\n",
       "      <td>4.0</td>\n",
       "      <td>12.0</td>\n",
       "      <td>6.0</td>\n",
       "      <td>5.0</td>\n",
       "      <td>3.0</td>\n",
       "      <td>2.0</td>\n",
       "      <td>MICS 2012-13</td>\n",
       "      <td>2013.0</td>\n",
       "    </tr>\n",
       "    <tr>\n",
       "      <th>3</th>\n",
       "      <td>AND</td>\n",
       "      <td>Andorra</td>\n",
       "      <td>ECA</td>\n",
       "      <td>WE</td>\n",
       "      <td>More Developed</td>\n",
       "      <td>NaN</td>\n",
       "      <td>NaN</td>\n",
       "      <td>NaN</td>\n",
       "      <td>NaN</td>\n",
       "      <td>NaN</td>\n",
       "      <td>NaN</td>\n",
       "      <td>NaN</td>\n",
       "      <td>NaN</td>\n",
       "      <td>NaN</td>\n",
       "      <td>NaN</td>\n",
       "      <td>NaN</td>\n",
       "      <td>NaN</td>\n",
       "    </tr>\n",
       "    <tr>\n",
       "      <th>4</th>\n",
       "      <td>AGO</td>\n",
       "      <td>Angola</td>\n",
       "      <td>SSA</td>\n",
       "      <td>ESA</td>\n",
       "      <td>Least Developed</td>\n",
       "      <td>15.0</td>\n",
       "      <td>17.0</td>\n",
       "      <td>14.0</td>\n",
       "      <td>28.0</td>\n",
       "      <td>10.0</td>\n",
       "      <td>31.0</td>\n",
       "      <td>26.0</td>\n",
       "      <td>16.0</td>\n",
       "      <td>6.0</td>\n",
       "      <td>4.0</td>\n",
       "      <td>DHS 2015-16</td>\n",
       "      <td>2016.0</td>\n",
       "    </tr>\n",
       "  </tbody>\n",
       "</table>\n",
       "</div>"
      ],
      "text/plain": [
       "    ISO3 Countries and areas Region Sub-region Development Regions  Total  \\\n",
       "a 0  AFG         Afghanistan     SA         SA     Least Developed   40.0   \n",
       "  1  ALB             Albania    ECA       EECA      More Developed    2.0   \n",
       "  2  DZA             Algeria   MENA       MENA      Less Developed    6.0   \n",
       "  3  AND             Andorra    ECA         WE      More Developed    NaN   \n",
       "  4  AGO              Angola    SSA        ESA     Least Developed   15.0   \n",
       "\n",
       "     Female  Male  Rural_Residence  Urban_Residence  Poorest_Wealth quintile  \\\n",
       "a 0    56.0  25.0             46.0             23.0                     50.0   \n",
       "  1     2.0   2.0              2.0              2.0                      4.0   \n",
       "  2     6.0   5.0              8.0              4.0                     12.0   \n",
       "  3     NaN   NaN              NaN              NaN                      NaN   \n",
       "  4    17.0  14.0             28.0             10.0                     31.0   \n",
       "\n",
       "     Second_Wealth quintile  Middle_Wealth quintile  Fourth_Wealth quintile  \\\n",
       "a 0                    48.0                    49.0                    33.0   \n",
       "  1                     2.0                     2.0                     1.0   \n",
       "  2                     6.0                     5.0                     3.0   \n",
       "  3                     NaN                     NaN                     NaN   \n",
       "  4                    26.0                    16.0                     6.0   \n",
       "\n",
       "     Richest_Wealth quintile   Data source  Time period  \n",
       "a 0                     21.0      DHS 2015       2015.0  \n",
       "  1                      1.0   DHS 2017-18       2018.0  \n",
       "  2                      2.0  MICS 2012-13       2013.0  \n",
       "  3                      NaN           NaN          NaN  \n",
       "  4                      4.0   DHS 2015-16       2016.0  "
      ]
     },
     "execution_count": 14,
     "metadata": {},
     "output_type": "execute_result"
    }
   ],
   "source": [
    "super_data_frame.head()"
   ]
  },
  {
   "cell_type": "code",
   "execution_count": 15,
   "id": "7d824b94",
   "metadata": {},
   "outputs": [
    {
     "name": "stdout",
     "output_type": "stream",
     "text": [
      "    Countries and areas Region Development Regions  Total  Female  Male  \\\n",
      "a 0         Afghanistan     SA     Least Developed   40.0    56.0  25.0   \n",
      "  1             Albania    ECA      More Developed    2.0     2.0   2.0   \n",
      "  2             Algeria   MENA      Less Developed    6.0     6.0   5.0   \n",
      "  4              Angola    SSA     Least Developed   15.0    17.0  14.0   \n",
      "  8             Armenia    ECA      Less Developed    1.0     1.0   1.0   \n",
      "\n",
      "     Rural_Residence  Urban_Residence  Poorest_Wealth quintile  \\\n",
      "a 0             46.0             23.0                     50.0   \n",
      "  1              2.0              2.0                      4.0   \n",
      "  2              8.0              4.0                     12.0   \n",
      "  4             28.0             10.0                     31.0   \n",
      "  8              0.0              1.0                      1.0   \n",
      "\n",
      "     Second_Wealth quintile  Middle_Wealth quintile  Fourth_Wealth quintile  \\\n",
      "a 0                    48.0                    49.0                    33.0   \n",
      "  1                     2.0                     2.0                     1.0   \n",
      "  2                     6.0                     5.0                     3.0   \n",
      "  4                    26.0                    16.0                     6.0   \n",
      "  8                     1.0                     2.0                     0.0   \n",
      "\n",
      "     Richest_Wealth quintile  \n",
      "a 0                     21.0  \n",
      "  1                      1.0  \n",
      "  2                      2.0  \n",
      "  4                      4.0  \n",
      "  8                      0.0  \n"
     ]
    }
   ],
   "source": [
    "sdf1 = super_data_frame.drop(columns=['ISO3', 'Sub-region', 'Data source', 'Time period']).dropna(how='any')\n",
    "print(sdf1.head())"
   ]
  },
  {
   "cell_type": "code",
   "execution_count": 16,
   "id": "a982fae7",
   "metadata": {},
   "outputs": [
    {
     "data": {
      "image/png": "[encoded data removed]",
      "text/plain": [
       "<Figure size 432x288 with 1 Axes>"
      ]
     },
     "metadata": {},
     "output_type": "display_data"
    }
   ],
   "source": [
    "#Scatterplot of Rural Residence vs. Total with the points colored by Development Regions\n",
    "sns.scatterplot(data=sdf1, x='Rural_Residence', y='Total', hue='Development Regions');"
   ]
  },
  {
   "cell_type": "code",
   "execution_count": 17,
   "id": "b00ea8d8",
   "metadata": {},
   "outputs": [
    {
     "name": "stdout",
     "output_type": "stream",
     "text": [
      "0.6710526315789473\n"
     ]
    }
   ],
   "source": [
    "#Conducting a logistic regression train_test_split of the features I wish to analyze: Rural Residence; Total; Development\n",
    "#Regions--Least Developed followed by fitting the training data into a LR classifier and running the accuracy_score on the\n",
    "#prediction and test variables.\n",
    "Xlr, Xtestlr, ylr, ytestlr = train_test_split(sdf1[['Rural_Residence', 'Total']].values, (sdf1['Development Regions'] ==\n",
    "                                                                                         'Least Developed').values,\n",
    "                                             random_state=5)\n",
    "clf1 = LogisticRegression()\n",
    "clf1.fit(Xlr, ylr)\n",
    "\n",
    "print(accuracy_score(clf1.predict(Xtestlr), ytestlr))"
   ]
  },
  {
   "cell_type": "code",
   "execution_count": 18,
   "id": "6a6b0bbb",
   "metadata": {},
   "outputs": [],
   "source": [
    "#Using the cv_score function to perform K-fold cross validation and apply a scoring function to each test fold\n",
    "def cv_score(clf, x, y, score_func=accuracy_score):\n",
    "    result = 0\n",
    "    nfold = 5\n",
    "    for train, test in KFold(nfold).split(x):\n",
    "        clf.fit(x[train], y[train])\n",
    "        result += score_func(clf.predict(x[test]), y[test])\n",
    "        return result / nfold"
   ]
  },
  {
   "cell_type": "code",
   "execution_count": 19,
   "id": "6883984a",
   "metadata": {},
   "outputs": [
    {
     "name": "stdout",
     "output_type": "stream",
     "text": [
      "0.14347826086956522\n"
     ]
    }
   ],
   "source": [
    "#Use of cv_score for basic logistic regression without regularization\n",
    "clf = LogisticRegression()\n",
    "score = cv_score(clf, Xlr, ylr)\n",
    "print(score)"
   ]
  },
  {
   "cell_type": "code",
   "execution_count": 20,
   "id": "d637b600",
   "metadata": {},
   "outputs": [
    {
     "name": "stdout",
     "output_type": "stream",
     "text": [
      "0.14782608695652172\n",
      "0.14347826086956522\n",
      "0.14347826086956522\n",
      "0.14347826086956522\n",
      "0.14347826086956522\n"
     ]
    }
   ],
   "source": [
    "#Using a grid of parameters to search over to find a good model\n",
    "c_1 = LogisticRegression(C=0.001)\n",
    "score_1 = cv_score(c_1, Xlr, ylr)\n",
    "print(score_1)\n",
    "\n",
    "c_2 = LogisticRegression(C=0.1)\n",
    "score_2 = cv_score(c_2, Xlr, ylr)\n",
    "print(score_2)\n",
    "\n",
    "c_3 = LogisticRegression(C=1)\n",
    "score_3 = cv_score(c_3, Xlr, ylr)\n",
    "print(score_3)\n",
    "\n",
    "c_4 = LogisticRegression(C=10)\n",
    "score_4 = cv_score(c_4, Xlr, ylr)\n",
    "print(score_4)\n",
    "\n",
    "c_5 = LogisticRegression(C=100)\n",
    "score_5 = cv_score(c_5, Xlr, ylr)\n",
    "print(score_5)"
   ]
  },
  {
   "cell_type": "code",
   "execution_count": 21,
   "id": "e18171c9",
   "metadata": {},
   "outputs": [
    {
     "name": "stdout",
     "output_type": "stream",
     "text": [
      "0.6842105263157895\n"
     ]
    }
   ],
   "source": [
    "#Estimating how this model will predict on unseen data and calculating the accuracy on the test data.\n",
    "c_1.fit(Xlr, ylr)\n",
    "print(accuracy_score(c_1.predict(Xtestlr), ytestlr))"
   ]
  },
  {
   "cell_type": "code",
   "execution_count": 22,
   "id": "377e551e",
   "metadata": {},
   "outputs": [],
   "source": [
    "sdf2 = super_data_frame.drop(columns=['ISO3', 'Countries and areas', 'Region', 'Sub-region', 'Poorest_Wealth quintile',\n",
    "                                     'Second_Wealth quintile', 'Middle_Wealth quintile', 'Fourth_Wealth quintile',\n",
    "                                     'Richest_Wealth quintile', 'Data source', 'Time period']).dropna(how='any')"
   ]
  },
  {
   "cell_type": "code",
   "execution_count": 23,
   "id": "37d61588",
   "metadata": {},
   "outputs": [
    {
     "name": "stdout",
     "output_type": "stream",
     "text": [
      "<class 'pandas.core.frame.DataFrame'>\n",
      "MultiIndex: 322 entries, ('a', 0) to ('c', 201)\n",
      "Data columns (total 6 columns):\n",
      " #   Column               Non-Null Count  Dtype  \n",
      "---  ------               --------------  -----  \n",
      " 0   Development Regions  322 non-null    object \n",
      " 1   Total                322 non-null    float64\n",
      " 2   Female               322 non-null    float64\n",
      " 3   Male                 322 non-null    float64\n",
      " 4   Rural_Residence      322 non-null    float64\n",
      " 5   Urban_Residence      322 non-null    float64\n",
      "dtypes: float64(5), object(1)\n",
      "memory usage: 16.3+ KB\n"
     ]
    }
   ],
   "source": [
    "sdf2.info()"
   ]
  },
  {
   "cell_type": "code",
   "execution_count": 30,
   "id": "288c350f",
   "metadata": {},
   "outputs": [],
   "source": [
    "#Splitting the data into X and y variables to be used in the train_test_split; the X variable holds the features with the\n",
    "#numerical data to predict the categories in y variable which holds the feature with labels.\n",
    "X = sdf2.drop('Development Regions', axis=1)\n",
    "y = sdf2['Development Regions']"
   ]
  },
  {
   "cell_type": "code",
   "execution_count": null,
   "id": "13382ebe",
   "metadata": {},
   "outputs": [],
   "source": [
    "#I decided to go with the Kernel SVM model as the data I'm working with to address the problem identification is best \n",
    "#suited for an algorithm built for non-linearly separable data that is multiclass. "
   ]
  },
  {
   "cell_type": "code",
   "execution_count": 31,
   "id": "22f9d4f5",
   "metadata": {},
   "outputs": [],
   "source": [
    "#Splitting the X and y variables into train and test sets with the train_test_split function, and setting the test_size to \n",
    "#20% of dataset.\n",
    "X_train, X_test, y_train, y_test = train_test_split(X, y, test_size=0.20)"
   ]
  },
  {
   "cell_type": "code",
   "execution_count": 33,
   "id": "19d2d94d",
   "metadata": {},
   "outputs": [],
   "source": [
    "#Employing the Support Vector Classifier with the polynomial kernel and using the classifier to fit the training set.\n",
    "svclassifier = SVC(kernel='poly', degree=8);\n",
    "svclassifier.fit(X_train, y_train);"
   ]
  },
  {
   "cell_type": "code",
   "execution_count": 258,
   "id": "69632476",
   "metadata": {},
   "outputs": [],
   "source": [
    "#Making our prediction based on X_test set\n",
    "y_pred = svclassifier.predict(X_test)"
   ]
  },
  {
   "cell_type": "code",
   "execution_count": 265,
   "id": "e96163da",
   "metadata": {},
   "outputs": [
    {
     "name": "stdout",
     "output_type": "stream",
     "text": [
      "[[10 13  0]\n",
      " [ 3 35  0]\n",
      " [ 0  4  0]]\n",
      "                 precision    recall  f1-score   support\n",
      "\n",
      "Least Developed       0.77      0.43      0.56        23\n",
      " Less Developed       0.67      0.92      0.78        38\n",
      " More Developed       1.00      0.00      0.00         4\n",
      "\n",
      "       accuracy                           0.69        65\n",
      "      macro avg       0.81      0.45      0.44        65\n",
      "   weighted avg       0.73      0.69      0.65        65\n",
      "\n"
     ]
    }
   ],
   "source": [
    "#Evaluations for the polynomial kernel\n",
    "print(confusion_matrix(y_test, y_pred))\n",
    "print(classification_report(y_test, y_pred, zero_division=1))"
   ]
  },
  {
   "cell_type": "code",
   "execution_count": 35,
   "id": "e528db60",
   "metadata": {},
   "outputs": [],
   "source": [
    "#Gaussian kernel\n",
    "svclassifier2 = SVC(kernel='rbf')\n",
    "svclassifier2.fit(X_train, y_train);"
   ]
  },
  {
   "cell_type": "code",
   "execution_count": 278,
   "id": "53b24944",
   "metadata": {},
   "outputs": [],
   "source": [
    "#Making our prediction based on the X_test set.\n",
    "y_pred2 = svclassifier2.predict(X_test)"
   ]
  },
  {
   "cell_type": "code",
   "execution_count": 279,
   "id": "a18bc303",
   "metadata": {},
   "outputs": [
    {
     "name": "stdout",
     "output_type": "stream",
     "text": [
      "[[14  9  0]\n",
      " [ 6 32  0]\n",
      " [ 1  3  0]]\n",
      "                 precision    recall  f1-score   support\n",
      "\n",
      "Least Developed       0.67      0.61      0.64        23\n",
      " Less Developed       0.73      0.84      0.78        38\n",
      " More Developed       1.00      0.00      0.00         4\n",
      "\n",
      "       accuracy                           0.71        65\n",
      "      macro avg       0.80      0.48      0.47        65\n",
      "   weighted avg       0.72      0.71      0.68        65\n",
      "\n"
     ]
    }
   ],
   "source": [
    "#Evaluations for the Gaussian kernel - The Gaussian kernel was overall the best in performance for the dataset as it \n",
    "#achieves the highest scores and best classifications throughout.\n",
    "print(confusion_matrix(y_test, y_pred2))\n",
    "print(classification_report(y_test, y_pred2, zero_division=1))"
   ]
  },
  {
   "cell_type": "code",
   "execution_count": 36,
   "id": "e8f0cfe4",
   "metadata": {},
   "outputs": [],
   "source": [
    "#Sigmoid used for binary classification\n",
    "svclassifier3 = SVC(kernel='sigmoid')\n",
    "svclassifier3.fit(X_train, y_train);"
   ]
  },
  {
   "cell_type": "code",
   "execution_count": 281,
   "id": "29c0b7ec",
   "metadata": {},
   "outputs": [],
   "source": [
    "#Making our prediction based on X_test set.\n",
    "y_pred3 = svclassifier3.predict(X_test)"
   ]
  },
  {
   "cell_type": "code",
   "execution_count": 282,
   "id": "beb308ab",
   "metadata": {},
   "outputs": [
    {
     "name": "stdout",
     "output_type": "stream",
     "text": [
      "[[12  9  2]\n",
      " [15 23  0]\n",
      " [ 1  3  0]]\n",
      "                 precision    recall  f1-score   support\n",
      "\n",
      "Least Developed       0.43      0.52      0.47        23\n",
      " Less Developed       0.66      0.61      0.63        38\n",
      " More Developed       0.00      0.00      0.00         4\n",
      "\n",
      "       accuracy                           0.54        65\n",
      "      macro avg       0.36      0.38      0.37        65\n",
      "   weighted avg       0.54      0.54      0.53        65\n",
      "\n"
     ]
    }
   ],
   "source": [
    "#Evaluations for the Sigmoid kernel\n",
    "#Sigmoid kernel performed the worst as it returns two values and is therefore applicable to binary classification problems.\n",
    "#We are working with 3 output classes here.\n",
    "print(confusion_matrix(y_test, y_pred3))\n",
    "print(classification_report(y_test, y_pred3))"
   ]
  }
 ],
 "metadata": {
  "kernelspec": {
   "display_name": "Python 3",
   "language": "python",
   "name": "python3"
  },
  "language_info": {
   "codemirror_mode": {
    "name": "ipython",
    "version": 3
   },
   "file_extension": ".py",
   "mimetype": "text/x-python",
   "name": "python",
   "nbconvert_exporter": "python",
   "pygments_lexer": "ipython3",
   "version": "3.8.8"
  }
 },
 "nbformat": 4,
 "nbformat_minor": 5
}
