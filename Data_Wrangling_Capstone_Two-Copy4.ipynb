{
 "cells": [
  {
   "cell_type": "code",
   "execution_count": 2,
   "id": "33955ec4",
   "metadata": {},
   "outputs": [],
   "source": [
    "import pandas as pd\n",
    "import os\n",
    "#from urllib.request import urlretrieve\n",
    "import numpy as np"
   ]
  },
  {
   "cell_type": "code",
   "execution_count": 3,
   "id": "a384502e",
   "metadata": {},
   "outputs": [
    {
     "name": "stdout",
     "output_type": "stream",
     "text": [
      "  ISO3 Countries and areas Region Sub-region Development Regions  Total  \\\n",
      "0  AFG         Afghanistan     SA         SA     Least Developed   40.0   \n",
      "1  ALB             Albania    ECA       EECA      More Developed    2.0   \n",
      "2  DZA             Algeria   MENA       MENA      Less Developed    6.0   \n",
      "3  AND             Andorra    ECA         WE      More Developed    NaN   \n",
      "4  AGO              Angola    SSA        ESA     Least Developed   15.0   \n",
      "\n",
      "   Female  Male  Rural_Residence  Urban_Residence  Poorest_Wealth quintile  \\\n",
      "0    56.0  25.0             46.0             23.0                     50.0   \n",
      "1     2.0   2.0              2.0              2.0                      4.0   \n",
      "2     6.0   5.0              8.0              4.0                     12.0   \n",
      "3     NaN   NaN              NaN              NaN                      NaN   \n",
      "4    17.0  14.0             28.0             10.0                     31.0   \n",
      "\n",
      "   Second_Wealth quintile  Middle_Wealth quintile  Fourth_Wealth quintile  \\\n",
      "0                    48.0                    49.0                    33.0   \n",
      "1                     2.0                     2.0                     1.0   \n",
      "2                     6.0                     5.0                     3.0   \n",
      "3                     NaN                     NaN                     NaN   \n",
      "4                    26.0                    16.0                     6.0   \n",
      "\n",
      "   Richest_Wealth quintile   Data source  Time period  \n",
      "0                     21.0      DHS 2015       2015.0  \n",
      "1                      1.0   DHS 2017-18       2018.0  \n",
      "2                      2.0  MICS 2012-13       2013.0  \n",
      "3                      NaN           NaN          NaN  \n",
      "4                      4.0   DHS 2015-16       2016.0  \n"
     ]
    }
   ],
   "source": [
    "#Loading first set of data\n",
    "lower_secondary = 'Lower Secondary.csv'\n",
    "df_1 = pd.read_csv(lower_secondary)\n",
    "print(df_1.head())"
   ]
  },
  {
   "cell_type": "code",
   "execution_count": 1,
   "id": "4248014f",
   "metadata": {},
   "outputs": [],
   "source": [
    "#Verifying for any duplicates in df_1.\n",
    "#df_1.drop_duplicates(subset=['ISO3', 'Countries and areas'])"
   ]
  },
  {
   "cell_type": "code",
   "execution_count": 5,
   "id": "29e91a4d",
   "metadata": {},
   "outputs": [
    {
     "name": "stdout",
     "output_type": "stream",
     "text": [
      "  ISO3 Countries and areas Region Sub-region Development Regions  Total  \\\n",
      "0  AFG         Afghanistan     SA         SA     Least Developed   37.0   \n",
      "1  ALB             Albania    ECA       EECA      More Developed    2.0   \n",
      "2  DZA             Algeria   MENA       MENA      Less Developed    2.0   \n",
      "3  AND             Andorra    ECA         WE      More Developed    NaN   \n",
      "4  AGO              Angola    SSA        ESA     Least Developed   22.0   \n",
      "\n",
      "   Female  Male  Rural_Residence  Urban_Residence  Poorest_Wealth quintile  \\\n",
      "0    47.0  28.0             42.0             19.0                     42.0   \n",
      "1     2.0   3.0              4.0              1.0                      4.0   \n",
      "2     2.0   2.0              2.0              2.0                      3.0   \n",
      "3     NaN   NaN              NaN              NaN                      NaN   \n",
      "4    22.0  21.0             35.0             14.0                     39.0   \n",
      "\n",
      "   Second_Wealth quintile  Middle_Wealth quintile  Fourth_Wealth quintile  \\\n",
      "0                    47.0                    46.0                    32.0   \n",
      "1                     3.0                     2.0                     2.0   \n",
      "2                     2.0                     2.0                     2.0   \n",
      "3                     NaN                     NaN                     NaN   \n",
      "4                    33.0                    19.0                    12.0   \n",
      "\n",
      "   Richest_Wealth quintile   Data source  Time period  \n",
      "0                     16.0      DHS 2015       2015.0  \n",
      "1                      1.0   DHS 2017-18       2018.0  \n",
      "2                      1.0  MICS 2012-13       2013.0  \n",
      "3                      NaN           NaN          NaN  \n",
      "4                      5.0   DHS 2015-16       2016.0  \n"
     ]
    }
   ],
   "source": [
    "#Loading second set of data\n",
    "primary = 'Primary.csv'\n",
    "df_2 = pd.read_csv(primary)\n",
    "print(df_2.head())"
   ]
  },
  {
   "cell_type": "code",
   "execution_count": 2,
   "id": "84cba3d9",
   "metadata": {},
   "outputs": [],
   "source": [
    "#Verifying for any duplicates in df_2.\n",
    "#df_2.drop_duplicates(subset=['ISO3', 'Countries and areas'])"
   ]
  },
  {
   "cell_type": "code",
   "execution_count": 7,
   "id": "7524de3b",
   "metadata": {},
   "outputs": [
    {
     "name": "stdout",
     "output_type": "stream",
     "text": [
      "  ISO3 Countries and areas Region Sub-region Development Regions  Total  \\\n",
      "0  AFG         Afghanistan     SA         SA     Least Developed   58.0   \n",
      "1  ALB             Albania    ECA       EECA      More Developed   12.0   \n",
      "2  DZA             Algeria   MENA       MENA      Less Developed   25.0   \n",
      "3  AND             Andorra    ECA         WE      More Developed    NaN   \n",
      "4  AGO              Angola    SSA        ESA     Least Developed   29.0   \n",
      "\n",
      "   Female  Male  Rural_Residence  Urban_Residence  Poorest_Wealth quintile  \\\n",
      "0    73.0  43.0             63.0             45.0                     70.0   \n",
      "1    12.0  12.0             16.0              9.0                     27.0   \n",
      "2    23.0  28.0             33.0             21.0                     40.0   \n",
      "3     NaN   NaN              NaN              NaN                      NaN   \n",
      "4    35.0  21.0             53.0             19.0                     58.0   \n",
      "\n",
      "   Second_Wealth quintile  Middle_Wealth quintile  Fourth_Wealth quintile  \\\n",
      "0                    64.0                    64.0                    54.0   \n",
      "1                    11.0                    11.0                     5.0   \n",
      "2                    29.0                    24.0                    20.0   \n",
      "3                     NaN                     NaN                     NaN   \n",
      "4                    50.0                    27.0                    17.0   \n",
      "\n",
      "   Richest_Wealth quintile   Data source  Time period  \n",
      "0                     40.0      DHS 2015       2015.0  \n",
      "1                      5.0   DHS 2017-18       2018.0  \n",
      "2                     12.0  MICS 2012-13       2013.0  \n",
      "3                      NaN           NaN          NaN  \n",
      "4                      9.0   DHS 2015-16       2016.0  \n"
     ]
    }
   ],
   "source": [
    "#Loading third set of data\n",
    "upper_secondary = 'Upper Secondary.csv'\n",
    "df_3 = pd.read_csv(upper_secondary)\n",
    "print(df_3.head())"
   ]
  },
  {
   "cell_type": "code",
   "execution_count": 3,
   "id": "529e5ca1",
   "metadata": {},
   "outputs": [],
   "source": [
    "#Verifying for any duplicates in df_3.\n",
    "#df_3.drop_duplicates(subset=['ISO3', 'Countries and areas'])"
   ]
  },
  {
   "cell_type": "code",
   "execution_count": 9,
   "id": "4d4df078",
   "metadata": {},
   "outputs": [
    {
     "name": "stdout",
     "output_type": "stream",
     "text": [
      "    ISO3 Countries and areas Region Sub-region Development Regions  Total  \\\n",
      "a 0  AFG         Afghanistan     SA         SA     Least Developed   40.0   \n",
      "  1  ALB             Albania    ECA       EECA      More Developed    2.0   \n",
      "  2  DZA             Algeria   MENA       MENA      Less Developed    6.0   \n",
      "  3  AND             Andorra    ECA         WE      More Developed    NaN   \n",
      "  4  AGO              Angola    SSA        ESA     Least Developed   15.0   \n",
      "\n",
      "     Female  Male  Rural_Residence  Urban_Residence  Poorest_Wealth quintile  \\\n",
      "a 0    56.0  25.0             46.0             23.0                     50.0   \n",
      "  1     2.0   2.0              2.0              2.0                      4.0   \n",
      "  2     6.0   5.0              8.0              4.0                     12.0   \n",
      "  3     NaN   NaN              NaN              NaN                      NaN   \n",
      "  4    17.0  14.0             28.0             10.0                     31.0   \n",
      "\n",
      "     Second_Wealth quintile  Middle_Wealth quintile  Fourth_Wealth quintile  \\\n",
      "a 0                    48.0                    49.0                    33.0   \n",
      "  1                     2.0                     2.0                     1.0   \n",
      "  2                     6.0                     5.0                     3.0   \n",
      "  3                     NaN                     NaN                     NaN   \n",
      "  4                    26.0                    16.0                     6.0   \n",
      "\n",
      "     Richest_Wealth quintile   Data source  Time period  \n",
      "a 0                     21.0      DHS 2015       2015.0  \n",
      "  1                      1.0   DHS 2017-18       2018.0  \n",
      "  2                      2.0  MICS 2012-13       2013.0  \n",
      "  3                      NaN           NaN          NaN  \n",
      "  4                      4.0   DHS 2015-16       2016.0  \n"
     ]
    }
   ],
   "source": [
    "#Joined all three sets of the data with the Concat function\n",
    "frames = [df_1, df_2, df_3]\n",
    "super_data_frame = pd.concat(frames, axis=0, keys=['a', 'b', 'c'])\n",
    "pd.set_option('display.max_rows', 606)\n",
    "print(super_data_frame.head())"
   ]
  },
  {
   "cell_type": "code",
   "execution_count": 10,
   "id": "74b67dc3",
   "metadata": {},
   "outputs": [
    {
     "name": "stdout",
     "output_type": "stream",
     "text": [
      "<class 'pandas.core.frame.DataFrame'>\n",
      "MultiIndex: 606 entries, ('a', 0) to ('c', 201)\n",
      "Data columns (total 17 columns):\n",
      " #   Column                   Non-Null Count  Dtype  \n",
      "---  ------                   --------------  -----  \n",
      " 0   ISO3                     606 non-null    object \n",
      " 1   Countries and areas      606 non-null    object \n",
      " 2   Region                   600 non-null    object \n",
      " 3   Sub-region               600 non-null    object \n",
      " 4   Development Regions      606 non-null    object \n",
      " 5   Total                    330 non-null    float64\n",
      " 6   Female                   330 non-null    float64\n",
      " 7   Male                     330 non-null    float64\n",
      " 8   Rural_Residence          322 non-null    float64\n",
      " 9   Urban_Residence          322 non-null    float64\n",
      " 10  Poorest_Wealth quintile  306 non-null    float64\n",
      " 11  Second_Wealth quintile   306 non-null    float64\n",
      " 12  Middle_Wealth quintile   306 non-null    float64\n",
      " 13  Fourth_Wealth quintile   306 non-null    float64\n",
      " 14  Richest_Wealth quintile  306 non-null    float64\n",
      " 15  Data source              330 non-null    object \n",
      " 16  Time period              330 non-null    float64\n",
      "dtypes: float64(11), object(6)\n",
      "memory usage: 82.5+ KB\n"
     ]
    }
   ],
   "source": [
    "#Used the info method to know what the data types of the data frame are.\n",
    "super_data_frame.info()"
   ]
  },
  {
   "cell_type": "code",
   "execution_count": 11,
   "id": "f48ed2f6",
   "metadata": {},
   "outputs": [
    {
     "data": {
      "text/html": [
       "<div>\n",
       "<style scoped>\n",
       "    .dataframe tbody tr th:only-of-type {\n",
       "        vertical-align: middle;\n",
       "    }\n",
       "\n",
       "    .dataframe tbody tr th {\n",
       "        vertical-align: top;\n",
       "    }\n",
       "\n",
       "    .dataframe thead th {\n",
       "        text-align: right;\n",
       "    }\n",
       "</style>\n",
       "<table border=\"1\" class=\"dataframe\">\n",
       "  <thead>\n",
       "    <tr style=\"text-align: right;\">\n",
       "      <th></th>\n",
       "      <th>count</th>\n",
       "      <th>mean</th>\n",
       "      <th>std</th>\n",
       "      <th>min</th>\n",
       "      <th>25%</th>\n",
       "      <th>50%</th>\n",
       "      <th>75%</th>\n",
       "      <th>max</th>\n",
       "    </tr>\n",
       "  </thead>\n",
       "  <tbody>\n",
       "    <tr>\n",
       "      <th>Total</th>\n",
       "      <td>330.0</td>\n",
       "      <td>18.190909</td>\n",
       "      <td>18.599357</td>\n",
       "      <td>0.0</td>\n",
       "      <td>3.00</td>\n",
       "      <td>11.0</td>\n",
       "      <td>27.00</td>\n",
       "      <td>86.0</td>\n",
       "    </tr>\n",
       "    <tr>\n",
       "      <th>Female</th>\n",
       "      <td>330.0</td>\n",
       "      <td>18.881818</td>\n",
       "      <td>20.502679</td>\n",
       "      <td>0.0</td>\n",
       "      <td>3.00</td>\n",
       "      <td>10.0</td>\n",
       "      <td>29.00</td>\n",
       "      <td>91.0</td>\n",
       "    </tr>\n",
       "    <tr>\n",
       "      <th>Male</th>\n",
       "      <td>330.0</td>\n",
       "      <td>17.445455</td>\n",
       "      <td>17.129004</td>\n",
       "      <td>0.0</td>\n",
       "      <td>3.25</td>\n",
       "      <td>12.0</td>\n",
       "      <td>26.00</td>\n",
       "      <td>79.0</td>\n",
       "    </tr>\n",
       "    <tr>\n",
       "      <th>Rural_Residence</th>\n",
       "      <td>322.0</td>\n",
       "      <td>22.114907</td>\n",
       "      <td>21.867396</td>\n",
       "      <td>0.0</td>\n",
       "      <td>4.00</td>\n",
       "      <td>13.0</td>\n",
       "      <td>35.00</td>\n",
       "      <td>95.0</td>\n",
       "    </tr>\n",
       "    <tr>\n",
       "      <th>Urban_Residence</th>\n",
       "      <td>322.0</td>\n",
       "      <td>13.021739</td>\n",
       "      <td>13.619306</td>\n",
       "      <td>0.0</td>\n",
       "      <td>3.00</td>\n",
       "      <td>8.0</td>\n",
       "      <td>19.75</td>\n",
       "      <td>70.0</td>\n",
       "    </tr>\n",
       "    <tr>\n",
       "      <th>Poorest_Wealth quintile</th>\n",
       "      <td>306.0</td>\n",
       "      <td>29.614379</td>\n",
       "      <td>25.901990</td>\n",
       "      <td>0.0</td>\n",
       "      <td>6.00</td>\n",
       "      <td>23.5</td>\n",
       "      <td>46.00</td>\n",
       "      <td>99.0</td>\n",
       "    </tr>\n",
       "    <tr>\n",
       "      <th>Second_Wealth quintile</th>\n",
       "      <td>306.0</td>\n",
       "      <td>23.055556</td>\n",
       "      <td>23.248625</td>\n",
       "      <td>0.0</td>\n",
       "      <td>3.00</td>\n",
       "      <td>15.0</td>\n",
       "      <td>36.00</td>\n",
       "      <td>97.0</td>\n",
       "    </tr>\n",
       "    <tr>\n",
       "      <th>Middle_Wealth quintile</th>\n",
       "      <td>306.0</td>\n",
       "      <td>19.078431</td>\n",
       "      <td>20.788089</td>\n",
       "      <td>0.0</td>\n",
       "      <td>3.00</td>\n",
       "      <td>11.0</td>\n",
       "      <td>29.00</td>\n",
       "      <td>97.0</td>\n",
       "    </tr>\n",
       "    <tr>\n",
       "      <th>Fourth_Wealth quintile</th>\n",
       "      <td>306.0</td>\n",
       "      <td>14.617647</td>\n",
       "      <td>17.425275</td>\n",
       "      <td>0.0</td>\n",
       "      <td>2.00</td>\n",
       "      <td>7.0</td>\n",
       "      <td>21.00</td>\n",
       "      <td>92.0</td>\n",
       "    </tr>\n",
       "    <tr>\n",
       "      <th>Richest_Wealth quintile</th>\n",
       "      <td>306.0</td>\n",
       "      <td>9.300654</td>\n",
       "      <td>12.074406</td>\n",
       "      <td>0.0</td>\n",
       "      <td>1.00</td>\n",
       "      <td>4.0</td>\n",
       "      <td>13.00</td>\n",
       "      <td>63.0</td>\n",
       "    </tr>\n",
       "    <tr>\n",
       "      <th>Time period</th>\n",
       "      <td>330.0</td>\n",
       "      <td>2015.496970</td>\n",
       "      <td>2.567329</td>\n",
       "      <td>2010.0</td>\n",
       "      <td>2014.00</td>\n",
       "      <td>2016.0</td>\n",
       "      <td>2018.00</td>\n",
       "      <td>2019.0</td>\n",
       "    </tr>\n",
       "  </tbody>\n",
       "</table>\n",
       "</div>"
      ],
      "text/plain": [
       "                         count         mean        std     min      25%  \\\n",
       "Total                    330.0    18.190909  18.599357     0.0     3.00   \n",
       "Female                   330.0    18.881818  20.502679     0.0     3.00   \n",
       "Male                     330.0    17.445455  17.129004     0.0     3.25   \n",
       "Rural_Residence          322.0    22.114907  21.867396     0.0     4.00   \n",
       "Urban_Residence          322.0    13.021739  13.619306     0.0     3.00   \n",
       "Poorest_Wealth quintile  306.0    29.614379  25.901990     0.0     6.00   \n",
       "Second_Wealth quintile   306.0    23.055556  23.248625     0.0     3.00   \n",
       "Middle_Wealth quintile   306.0    19.078431  20.788089     0.0     3.00   \n",
       "Fourth_Wealth quintile   306.0    14.617647  17.425275     0.0     2.00   \n",
       "Richest_Wealth quintile  306.0     9.300654  12.074406     0.0     1.00   \n",
       "Time period              330.0  2015.496970   2.567329  2010.0  2014.00   \n",
       "\n",
       "                            50%      75%     max  \n",
       "Total                      11.0    27.00    86.0  \n",
       "Female                     10.0    29.00    91.0  \n",
       "Male                       12.0    26.00    79.0  \n",
       "Rural_Residence            13.0    35.00    95.0  \n",
       "Urban_Residence             8.0    19.75    70.0  \n",
       "Poorest_Wealth quintile    23.5    46.00    99.0  \n",
       "Second_Wealth quintile     15.0    36.00    97.0  \n",
       "Middle_Wealth quintile     11.0    29.00    97.0  \n",
       "Fourth_Wealth quintile      7.0    21.00    92.0  \n",
       "Richest_Wealth quintile     4.0    13.00    63.0  \n",
       "Time period              2016.0  2018.00  2019.0  "
      ]
     },
     "execution_count": 11,
     "metadata": {},
     "output_type": "execute_result"
    }
   ],
   "source": [
    "#Used the describe method for a statistical summary of the numerical data\n",
    "super_data_frame.describe().T"
   ]
  },
  {
   "cell_type": "code",
   "execution_count": 12,
   "id": "f7199ee3",
   "metadata": {},
   "outputs": [
    {
     "data": {
      "text/plain": [
       "202"
      ]
     },
     "execution_count": 12,
     "metadata": {},
     "output_type": "execute_result"
    }
   ],
   "source": [
    "#Number of unique vales of the 1st column; ISO3.\n",
    "super_data_frame['ISO3'].nunique(dropna=False)"
   ]
  },
  {
   "cell_type": "code",
   "execution_count": 13,
   "id": "bc9183e0",
   "metadata": {},
   "outputs": [
    {
     "data": {
      "text/plain": [
       "202"
      ]
     },
     "execution_count": 13,
     "metadata": {},
     "output_type": "execute_result"
    }
   ],
   "source": [
    "#Number of unique values of the 2nd column; Countries and areas.\n",
    "super_data_frame['Countries and areas'].nunique(dropna=False)"
   ]
  },
  {
   "cell_type": "code",
   "execution_count": 14,
   "id": "fa90f624",
   "metadata": {},
   "outputs": [
    {
     "data": {
      "text/plain": [
       "0    ECA\n",
       "dtype: object"
      ]
     },
     "execution_count": 14,
     "metadata": {},
     "output_type": "execute_result"
    }
   ],
   "source": [
    "#Mode of the 3rd column; Region.\n",
    "super_data_frame['Region'].mode(dropna=False)"
   ]
  },
  {
   "cell_type": "code",
   "execution_count": 15,
   "id": "c2b057ec",
   "metadata": {},
   "outputs": [
    {
     "data": {
      "text/plain": [
       "7"
      ]
     },
     "execution_count": 15,
     "metadata": {},
     "output_type": "execute_result"
    }
   ],
   "source": [
    "#Number of unique values of the 3rd column; Region.\n",
    "super_data_frame['Region'].nunique(dropna=False)"
   ]
  },
  {
   "cell_type": "code",
   "execution_count": 16,
   "id": "533971e7",
   "metadata": {},
   "outputs": [
    {
     "data": {
      "text/plain": [
       "0    LAC\n",
       "dtype: object"
      ]
     },
     "execution_count": 16,
     "metadata": {},
     "output_type": "execute_result"
    }
   ],
   "source": [
    "#Mode of the 4th column; Sub-region.\n",
    "super_data_frame['Sub-region'].mode(dropna=False)"
   ]
  },
  {
   "cell_type": "code",
   "execution_count": 17,
   "id": "fbd435c3",
   "metadata": {},
   "outputs": [
    {
     "data": {
      "text/plain": [
       "9"
      ]
     },
     "execution_count": 17,
     "metadata": {},
     "output_type": "execute_result"
    }
   ],
   "source": [
    "#Number of unique values of the 4th column; Sub-region.\n",
    "super_data_frame['Sub-region'].nunique(dropna=False)"
   ]
  },
  {
   "cell_type": "code",
   "execution_count": 18,
   "id": "8bab47e0",
   "metadata": {},
   "outputs": [
    {
     "data": {
      "text/plain": [
       "0    Less Developed\n",
       "dtype: object"
      ]
     },
     "execution_count": 18,
     "metadata": {},
     "output_type": "execute_result"
    }
   ],
   "source": [
    "#Mode of the 5th column; Development Regions.\n",
    "super_data_frame['Development Regions'].mode(dropna=False)"
   ]
  },
  {
   "cell_type": "code",
   "execution_count": 19,
   "id": "3de4a615",
   "metadata": {},
   "outputs": [
    {
     "data": {
      "text/plain": [
       "4"
      ]
     },
     "execution_count": 19,
     "metadata": {},
     "output_type": "execute_result"
    }
   ],
   "source": [
    "#Number of unique values of the 5th column; Regions.\n",
    "super_data_frame['Development Regions'].nunique(dropna=False)"
   ]
  },
  {
   "cell_type": "code",
   "execution_count": 20,
   "id": "4204461c",
   "metadata": {},
   "outputs": [
    {
     "data": {
      "text/plain": [
       "18.19090909090909"
      ]
     },
     "execution_count": 20,
     "metadata": {},
     "output_type": "execute_result"
    }
   ],
   "source": [
    "#Mean of the 6th column; Total.\n",
    "super_data_frame['Total'].mean()"
   ]
  },
  {
   "cell_type": "code",
   "execution_count": 21,
   "id": "51b8a4f6",
   "metadata": {},
   "outputs": [
    {
     "data": {
      "text/plain": [
       "11.0"
      ]
     },
     "execution_count": 21,
     "metadata": {},
     "output_type": "execute_result"
    }
   ],
   "source": [
    "#Median of the 6th column; Total.\n",
    "super_data_frame['Total'].median()"
   ]
  },
  {
   "cell_type": "code",
   "execution_count": 22,
   "id": "22e05b75",
   "metadata": {},
   "outputs": [
    {
     "data": {
      "text/plain": [
       "0    1.0\n",
       "dtype: float64"
      ]
     },
     "execution_count": 22,
     "metadata": {},
     "output_type": "execute_result"
    }
   ],
   "source": [
    "#Mode of the 6th column; Total.\n",
    "#super_data_frame['Total'].mode(dropna=False)\n",
    "super_data_frame['Total'].mode()"
   ]
  },
  {
   "cell_type": "code",
   "execution_count": 23,
   "id": "2106b64b",
   "metadata": {},
   "outputs": [
    {
     "data": {
      "text/plain": [
       "18.599357174831034"
      ]
     },
     "execution_count": 23,
     "metadata": {},
     "output_type": "execute_result"
    }
   ],
   "source": [
    "#Standard Deviation of the 6th column; Total.\n",
    "super_data_frame['Total'].std()"
   ]
  },
  {
   "cell_type": "code",
   "execution_count": 24,
   "id": "59d40b2c",
   "metadata": {},
   "outputs": [
    {
     "name": "stdout",
     "output_type": "stream",
     "text": [
      "range is 86.0\n"
     ]
    }
   ],
   "source": [
    "#Range of the 6th column; Total.\n",
    "print('range is', super_data_frame.Total.max() - super_data_frame.Total.min())"
   ]
  },
  {
   "cell_type": "code",
   "execution_count": 25,
   "id": "980e5c49",
   "metadata": {},
   "outputs": [
    {
     "data": {
      "text/plain": [
       "68"
      ]
     },
     "execution_count": 25,
     "metadata": {},
     "output_type": "execute_result"
    }
   ],
   "source": [
    "#Number of unique values of the 6th column; Total.\n",
    "super_data_frame['Total'].nunique(dropna=False)"
   ]
  },
  {
   "cell_type": "code",
   "execution_count": 26,
   "id": "d8394aea",
   "metadata": {},
   "outputs": [
    {
     "data": {
      "text/plain": [
       "18.881818181818183"
      ]
     },
     "execution_count": 26,
     "metadata": {},
     "output_type": "execute_result"
    }
   ],
   "source": [
    "#Mean of the 7th column; Female.\n",
    "super_data_frame['Female'].mean()"
   ]
  },
  {
   "cell_type": "code",
   "execution_count": 27,
   "id": "5681525d",
   "metadata": {},
   "outputs": [
    {
     "data": {
      "text/plain": [
       "10.0"
      ]
     },
     "execution_count": 27,
     "metadata": {},
     "output_type": "execute_result"
    }
   ],
   "source": [
    "#Median of the 7th column; Female.\n",
    "super_data_frame['Female'].median()"
   ]
  },
  {
   "cell_type": "code",
   "execution_count": 28,
   "id": "5c504157",
   "metadata": {},
   "outputs": [
    {
     "data": {
      "text/plain": [
       "0    1.0\n",
       "dtype: float64"
      ]
     },
     "execution_count": 28,
     "metadata": {},
     "output_type": "execute_result"
    }
   ],
   "source": [
    "#Mode of the 7th column; Female.\n",
    "super_data_frame['Female'].mode()"
   ]
  },
  {
   "cell_type": "code",
   "execution_count": 29,
   "id": "5f9c2160",
   "metadata": {},
   "outputs": [
    {
     "data": {
      "text/plain": [
       "20.50267911243577"
      ]
     },
     "execution_count": 29,
     "metadata": {},
     "output_type": "execute_result"
    }
   ],
   "source": [
    "#Standard deviation of the 7th column; Female.\n",
    "super_data_frame['Female'].std()"
   ]
  },
  {
   "cell_type": "code",
   "execution_count": 30,
   "id": "523f23e3",
   "metadata": {},
   "outputs": [
    {
     "name": "stdout",
     "output_type": "stream",
     "text": [
      "range is 91.0\n"
     ]
    }
   ],
   "source": [
    "#Range of the 7th column; Female.\n",
    "print('range is', super_data_frame.Female.max() - super_data_frame.Female.min())"
   ]
  },
  {
   "cell_type": "code",
   "execution_count": 31,
   "id": "6a25d597",
   "metadata": {},
   "outputs": [
    {
     "data": {
      "text/plain": [
       "69"
      ]
     },
     "execution_count": 31,
     "metadata": {},
     "output_type": "execute_result"
    }
   ],
   "source": [
    "#Number of unique values of the 7th column; Female.\n",
    "super_data_frame['Female'].nunique(dropna=False)"
   ]
  },
  {
   "cell_type": "code",
   "execution_count": 32,
   "id": "ec073940",
   "metadata": {},
   "outputs": [
    {
     "data": {
      "text/plain": [
       "17.445454545454545"
      ]
     },
     "execution_count": 32,
     "metadata": {},
     "output_type": "execute_result"
    }
   ],
   "source": [
    "#Mean of the 8th column; Male.\n",
    "super_data_frame['Male'].mean()"
   ]
  },
  {
   "cell_type": "code",
   "execution_count": 33,
   "id": "82579cec",
   "metadata": {},
   "outputs": [
    {
     "data": {
      "text/plain": [
       "12.0"
      ]
     },
     "execution_count": 33,
     "metadata": {},
     "output_type": "execute_result"
    }
   ],
   "source": [
    "#Median of the 8th column; Male.\n",
    "super_data_frame['Male'].median()"
   ]
  },
  {
   "cell_type": "code",
   "execution_count": 34,
   "id": "58d865b3",
   "metadata": {},
   "outputs": [
    {
     "data": {
      "text/plain": [
       "0    1.0\n",
       "dtype: float64"
      ]
     },
     "execution_count": 34,
     "metadata": {},
     "output_type": "execute_result"
    }
   ],
   "source": [
    "#Mode of the 8th column; Male.\n",
    "super_data_frame['Male'].mode()"
   ]
  },
  {
   "cell_type": "code",
   "execution_count": 35,
   "id": "554fd1ff",
   "metadata": {},
   "outputs": [
    {
     "data": {
      "text/plain": [
       "17.129004373465346"
      ]
     },
     "execution_count": 35,
     "metadata": {},
     "output_type": "execute_result"
    }
   ],
   "source": [
    "#Standard Deviation of the 8th column; Male.\n",
    "super_data_frame['Male'].std()"
   ]
  },
  {
   "cell_type": "code",
   "execution_count": 36,
   "id": "34bfe072",
   "metadata": {},
   "outputs": [
    {
     "name": "stdout",
     "output_type": "stream",
     "text": [
      "range is 79.0\n"
     ]
    }
   ],
   "source": [
    "#Range of the 8th column; Male.\n",
    "print('range is', super_data_frame.Male.max() - super_data_frame.Male.min())"
   ]
  },
  {
   "cell_type": "code",
   "execution_count": 37,
   "id": "a77ed662",
   "metadata": {},
   "outputs": [
    {
     "data": {
      "text/plain": [
       "64"
      ]
     },
     "execution_count": 37,
     "metadata": {},
     "output_type": "execute_result"
    }
   ],
   "source": [
    "#Number of unique vales of the 8th column; Male.\n",
    "super_data_frame['Male'].nunique(dropna=False)"
   ]
  },
  {
   "cell_type": "code",
   "execution_count": 38,
   "id": "8f3e201b",
   "metadata": {},
   "outputs": [
    {
     "data": {
      "text/plain": [
       "22.114906832298136"
      ]
     },
     "execution_count": 38,
     "metadata": {},
     "output_type": "execute_result"
    }
   ],
   "source": [
    "#Mean of the 9th column; Rural_Residence.\n",
    "super_data_frame['Rural_Residence'].mean()"
   ]
  },
  {
   "cell_type": "code",
   "execution_count": 39,
   "id": "c76910c2",
   "metadata": {},
   "outputs": [
    {
     "data": {
      "text/plain": [
       "13.0"
      ]
     },
     "execution_count": 39,
     "metadata": {},
     "output_type": "execute_result"
    }
   ],
   "source": [
    "#Median of the 9th column; Rural_Residence.\n",
    "super_data_frame['Rural_Residence'].median()"
   ]
  },
  {
   "cell_type": "code",
   "execution_count": 40,
   "id": "26bbce46",
   "metadata": {},
   "outputs": [
    {
     "data": {
      "text/plain": [
       "0    1.0\n",
       "dtype: float64"
      ]
     },
     "execution_count": 40,
     "metadata": {},
     "output_type": "execute_result"
    }
   ],
   "source": [
    "#Mode of the 9th column; Rural_Residence.\n",
    "super_data_frame['Rural_Residence'].mode()"
   ]
  },
  {
   "cell_type": "code",
   "execution_count": 41,
   "id": "e9afcc4b",
   "metadata": {},
   "outputs": [
    {
     "data": {
      "text/plain": [
       "21.86739620918517"
      ]
     },
     "execution_count": 41,
     "metadata": {},
     "output_type": "execute_result"
    }
   ],
   "source": [
    "#Standard Deviation of the 9th column; Rural_Residence.\n",
    "super_data_frame['Rural_Residence'].std()"
   ]
  },
  {
   "cell_type": "code",
   "execution_count": 42,
   "id": "a3bffb74",
   "metadata": {},
   "outputs": [
    {
     "name": "stdout",
     "output_type": "stream",
     "text": [
      "range is 95.0\n"
     ]
    }
   ],
   "source": [
    "#Range of the 9th column; Rural_Residence.\n",
    "print('range is', super_data_frame.Rural_Residence.max() - super_data_frame.Rural_Residence.min())"
   ]
  },
  {
   "cell_type": "code",
   "execution_count": 43,
   "id": "d30af87c",
   "metadata": {},
   "outputs": [
    {
     "data": {
      "text/plain": [
       "74"
      ]
     },
     "execution_count": 43,
     "metadata": {},
     "output_type": "execute_result"
    }
   ],
   "source": [
    "#Number of unique values of the 9th column; Rural_Residence.\n",
    "super_data_frame['Rural_Residence'].nunique(dropna=False)"
   ]
  },
  {
   "cell_type": "code",
   "execution_count": 44,
   "id": "d084e75b",
   "metadata": {},
   "outputs": [
    {
     "data": {
      "text/plain": [
       "13.021739130434783"
      ]
     },
     "execution_count": 44,
     "metadata": {},
     "output_type": "execute_result"
    }
   ],
   "source": [
    "#Mean of the 10th column; Urban_Residence.\n",
    "super_data_frame['Urban_Residence'].mean()"
   ]
  },
  {
   "cell_type": "code",
   "execution_count": 45,
   "id": "0c99c0b0",
   "metadata": {},
   "outputs": [
    {
     "data": {
      "text/plain": [
       "8.0"
      ]
     },
     "execution_count": 45,
     "metadata": {},
     "output_type": "execute_result"
    }
   ],
   "source": [
    "#Median of the 10th column; Urban_Residence.\n",
    "super_data_frame['Urban_Residence'].median()"
   ]
  },
  {
   "cell_type": "code",
   "execution_count": 46,
   "id": "092b09ae",
   "metadata": {},
   "outputs": [
    {
     "data": {
      "text/plain": [
       "0    1.0\n",
       "dtype: float64"
      ]
     },
     "execution_count": 46,
     "metadata": {},
     "output_type": "execute_result"
    }
   ],
   "source": [
    "#Mode of the 10th column; Urban_Residence.\n",
    "super_data_frame['Urban_Residence'].mode()"
   ]
  },
  {
   "cell_type": "code",
   "execution_count": 47,
   "id": "a19f6714",
   "metadata": {},
   "outputs": [
    {
     "data": {
      "text/plain": [
       "13.619306415760567"
      ]
     },
     "execution_count": 47,
     "metadata": {},
     "output_type": "execute_result"
    }
   ],
   "source": [
    "#Standard Deviation of the 10th column; Urban_Residence.\n",
    "super_data_frame['Urban_Residence'].std()"
   ]
  },
  {
   "cell_type": "code",
   "execution_count": 48,
   "id": "8eb03ae0",
   "metadata": {},
   "outputs": [
    {
     "name": "stdout",
     "output_type": "stream",
     "text": [
      "range is 70.0\n"
     ]
    }
   ],
   "source": [
    "#Range of the 10th column; Urban_Residence.\n",
    "print('range is', super_data_frame.Urban_Residence.max() - super_data_frame.Urban_Residence.min())"
   ]
  },
  {
   "cell_type": "code",
   "execution_count": 49,
   "id": "ff5432f8",
   "metadata": {},
   "outputs": [
    {
     "data": {
      "text/plain": [
       "53"
      ]
     },
     "execution_count": 49,
     "metadata": {},
     "output_type": "execute_result"
    }
   ],
   "source": [
    "#Number of unique values of the 10th column; Urban_Residence.\n",
    "super_data_frame['Urban_Residence'].nunique(dropna=False)"
   ]
  },
  {
   "cell_type": "code",
   "execution_count": 50,
   "id": "d7fff3ae",
   "metadata": {},
   "outputs": [
    {
     "data": {
      "text/plain": [
       "29.61437908496732"
      ]
     },
     "execution_count": 50,
     "metadata": {},
     "output_type": "execute_result"
    }
   ],
   "source": [
    "#Mean of the 11th column; Poorest_Wealth quintile.\n",
    "super_data_frame['Poorest_Wealth quintile'].mean()"
   ]
  },
  {
   "cell_type": "code",
   "execution_count": 51,
   "id": "e5ab12f4",
   "metadata": {},
   "outputs": [
    {
     "data": {
      "text/plain": [
       "23.5"
      ]
     },
     "execution_count": 51,
     "metadata": {},
     "output_type": "execute_result"
    }
   ],
   "source": [
    "#Median of the 11th column; Poorest_Wealth quintile.\n",
    "super_data_frame['Poorest_Wealth quintile'].median()"
   ]
  },
  {
   "cell_type": "code",
   "execution_count": 52,
   "id": "260169e5",
   "metadata": {},
   "outputs": [
    {
     "data": {
      "text/plain": [
       "0    2.0\n",
       "dtype: float64"
      ]
     },
     "execution_count": 52,
     "metadata": {},
     "output_type": "execute_result"
    }
   ],
   "source": [
    "#Mode of the 11th column; Poorest_Wealth quintile.\n",
    "super_data_frame['Poorest_Wealth quintile'].mode()"
   ]
  },
  {
   "cell_type": "code",
   "execution_count": 53,
   "id": "e32c8e11",
   "metadata": {},
   "outputs": [
    {
     "data": {
      "text/plain": [
       "25.901990348995"
      ]
     },
     "execution_count": 53,
     "metadata": {},
     "output_type": "execute_result"
    }
   ],
   "source": [
    "#Standard Deviation of the 11th column; Poorest_Wealth quintile.\n",
    "super_data_frame['Poorest_Wealth quintile'].std()"
   ]
  },
  {
   "cell_type": "code",
   "execution_count": 54,
   "id": "d83da720",
   "metadata": {},
   "outputs": [
    {
     "name": "stdout",
     "output_type": "stream",
     "text": [
      "range is 99.0\n"
     ]
    }
   ],
   "source": [
    "#Range of the 11th column; Poorest_Wealth quintile.\n",
    "print('range is', super_data_frame['Poorest_Wealth quintile'].max() - super_data_frame['Poorest_Wealth quintile'].min())"
   ]
  },
  {
   "cell_type": "code",
   "execution_count": 55,
   "id": "160bdfbb",
   "metadata": {},
   "outputs": [
    {
     "data": {
      "text/plain": [
       "88"
      ]
     },
     "execution_count": 55,
     "metadata": {},
     "output_type": "execute_result"
    }
   ],
   "source": [
    "#Number of unique values of the 11th column; Poorest_Wealth quintile.\n",
    "super_data_frame['Poorest_Wealth quintile'].nunique(dropna=False)"
   ]
  },
  {
   "cell_type": "code",
   "execution_count": 56,
   "id": "257ecf69",
   "metadata": {},
   "outputs": [
    {
     "data": {
      "text/plain": [
       "23.055555555555557"
      ]
     },
     "execution_count": 56,
     "metadata": {},
     "output_type": "execute_result"
    }
   ],
   "source": [
    "#Mean of the 12th column; Second_Wealth quintile.\n",
    "super_data_frame['Second_Wealth quintile'].mean()"
   ]
  },
  {
   "cell_type": "code",
   "execution_count": 57,
   "id": "947bf4e0",
   "metadata": {},
   "outputs": [
    {
     "data": {
      "text/plain": [
       "15.0"
      ]
     },
     "execution_count": 57,
     "metadata": {},
     "output_type": "execute_result"
    }
   ],
   "source": [
    "#Median of the 12th column; Second_Wealth quintile.\n",
    "super_data_frame['Second_Wealth quintile'].median()"
   ]
  },
  {
   "cell_type": "code",
   "execution_count": 58,
   "id": "42d05281",
   "metadata": {},
   "outputs": [
    {
     "data": {
      "text/plain": [
       "0    2.0\n",
       "dtype: float64"
      ]
     },
     "execution_count": 58,
     "metadata": {},
     "output_type": "execute_result"
    }
   ],
   "source": [
    "#Mode of the 12th column; Second_Wealth quintile.\n",
    "super_data_frame['Second_Wealth quintile'].mode()"
   ]
  },
  {
   "cell_type": "code",
   "execution_count": 59,
   "id": "5697acfc",
   "metadata": {},
   "outputs": [
    {
     "data": {
      "text/plain": [
       "23.248624535767714"
      ]
     },
     "execution_count": 59,
     "metadata": {},
     "output_type": "execute_result"
    }
   ],
   "source": [
    "#Standard Deviation of the 12th column; Second_Wealth quintile.\n",
    "super_data_frame['Second_Wealth quintile'].std()"
   ]
  },
  {
   "cell_type": "code",
   "execution_count": 60,
   "id": "93a4eac9",
   "metadata": {},
   "outputs": [
    {
     "name": "stdout",
     "output_type": "stream",
     "text": [
      "range is 97.0\n"
     ]
    }
   ],
   "source": [
    "#Range of the 12th column; Second_Wealth quintile.\n",
    "print('range is', super_data_frame['Second_Wealth quintile'].max() - super_data_frame['Second_Wealth quintile'].min())"
   ]
  },
  {
   "cell_type": "code",
   "execution_count": 61,
   "id": "b6e7116a",
   "metadata": {},
   "outputs": [
    {
     "data": {
      "text/plain": [
       "75"
      ]
     },
     "execution_count": 61,
     "metadata": {},
     "output_type": "execute_result"
    }
   ],
   "source": [
    "#Number of unique values of the 12th column; Second_Wealth quintile.\n",
    "super_data_frame['Second_Wealth quintile'].nunique(dropna=False)"
   ]
  },
  {
   "cell_type": "code",
   "execution_count": 62,
   "id": "d66dc5a1",
   "metadata": {},
   "outputs": [
    {
     "data": {
      "text/plain": [
       "19.07843137254902"
      ]
     },
     "execution_count": 62,
     "metadata": {},
     "output_type": "execute_result"
    }
   ],
   "source": [
    "#Mean of the 13th column; Middle_Wealth quintile.\n",
    "super_data_frame['Middle_Wealth quintile'].mean()"
   ]
  },
  {
   "cell_type": "code",
   "execution_count": 63,
   "id": "02630912",
   "metadata": {},
   "outputs": [
    {
     "data": {
      "text/plain": [
       "11.0"
      ]
     },
     "execution_count": 63,
     "metadata": {},
     "output_type": "execute_result"
    }
   ],
   "source": [
    "#Median of the 13th column; Middle_Wealth quintile.\n",
    "super_data_frame['Middle_Wealth quintile'].median()"
   ]
  },
  {
   "cell_type": "code",
   "execution_count": 64,
   "id": "b4436b97",
   "metadata": {},
   "outputs": [
    {
     "data": {
      "text/plain": [
       "0    2.0\n",
       "dtype: float64"
      ]
     },
     "execution_count": 64,
     "metadata": {},
     "output_type": "execute_result"
    }
   ],
   "source": [
    "#Mode of the 13th column; Middle_Wealth quintile.\n",
    "super_data_frame['Middle_Wealth quintile'].mode()"
   ]
  },
  {
   "cell_type": "code",
   "execution_count": 65,
   "id": "b1f586aa",
   "metadata": {},
   "outputs": [
    {
     "data": {
      "text/plain": [
       "20.788089090225277"
      ]
     },
     "execution_count": 65,
     "metadata": {},
     "output_type": "execute_result"
    }
   ],
   "source": [
    "#Standard Deviation of the 13th column; Middle_Wealth quintile.\n",
    "super_data_frame['Middle_Wealth quintile'].std()"
   ]
  },
  {
   "cell_type": "code",
   "execution_count": 66,
   "id": "52c4e983",
   "metadata": {},
   "outputs": [
    {
     "name": "stdout",
     "output_type": "stream",
     "text": [
      "range is 97.0\n"
     ]
    }
   ],
   "source": [
    "#Range of the 13th column; Middle_Wealth quintile.\n",
    "print('range is', super_data_frame['Middle_Wealth quintile'].max() - super_data_frame['Middle_Wealth quintile'].min())"
   ]
  },
  {
   "cell_type": "code",
   "execution_count": 67,
   "id": "8a3207b4",
   "metadata": {},
   "outputs": [
    {
     "data": {
      "text/plain": [
       "73"
      ]
     },
     "execution_count": 67,
     "metadata": {},
     "output_type": "execute_result"
    }
   ],
   "source": [
    "#Number of unique values of the 13th column; Middle_Wealth quintile.\n",
    "super_data_frame['Middle_Wealth quintile'].nunique(dropna=False)"
   ]
  },
  {
   "cell_type": "code",
   "execution_count": 68,
   "id": "022394df",
   "metadata": {},
   "outputs": [
    {
     "data": {
      "text/plain": [
       "14.617647058823529"
      ]
     },
     "execution_count": 68,
     "metadata": {},
     "output_type": "execute_result"
    }
   ],
   "source": [
    "#Mean of the 14th column; Fourth_Wealth quintile.\n",
    "super_data_frame['Fourth_Wealth quintile'].mean()"
   ]
  },
  {
   "cell_type": "code",
   "execution_count": 69,
   "id": "57417370",
   "metadata": {},
   "outputs": [
    {
     "data": {
      "text/plain": [
       "7.0"
      ]
     },
     "execution_count": 69,
     "metadata": {},
     "output_type": "execute_result"
    }
   ],
   "source": [
    "#Median of the 14th column; Fourth_Wealth quintile.\n",
    "super_data_frame['Fourth_Wealth quintile'].median()"
   ]
  },
  {
   "cell_type": "code",
   "execution_count": 70,
   "id": "e4a4b5f1",
   "metadata": {},
   "outputs": [
    {
     "data": {
      "text/plain": [
       "0    1.0\n",
       "dtype: float64"
      ]
     },
     "execution_count": 70,
     "metadata": {},
     "output_type": "execute_result"
    }
   ],
   "source": [
    "#Mode of the 14th column; Fourth_Wealth quintile.\n",
    "super_data_frame['Fourth_Wealth quintile'].mode()"
   ]
  },
  {
   "cell_type": "code",
   "execution_count": 71,
   "id": "c375d990",
   "metadata": {},
   "outputs": [
    {
     "data": {
      "text/plain": [
       "17.425275095401915"
      ]
     },
     "execution_count": 71,
     "metadata": {},
     "output_type": "execute_result"
    }
   ],
   "source": [
    "#Standard Deviation of the 14th column; Fourth_Wealth quintile.\n",
    "super_data_frame['Fourth_Wealth quintile'].std()"
   ]
  },
  {
   "cell_type": "code",
   "execution_count": 72,
   "id": "8048ed93",
   "metadata": {},
   "outputs": [
    {
     "name": "stdout",
     "output_type": "stream",
     "text": [
      "range is 92.0\n"
     ]
    }
   ],
   "source": [
    "#Range of the 14th column; Fourth_Wealth quintile.\n",
    "print('range is', super_data_frame['Fourth_Wealth quintile'].max() - super_data_frame['Fourth_Wealth quintile'].min())"
   ]
  },
  {
   "cell_type": "code",
   "execution_count": 73,
   "id": "9e9e4e94",
   "metadata": {},
   "outputs": [
    {
     "data": {
      "text/plain": [
       "61"
      ]
     },
     "execution_count": 73,
     "metadata": {},
     "output_type": "execute_result"
    }
   ],
   "source": [
    "#Number of unique values of the 14th column; Fourth_Wealth quintile.\n",
    "super_data_frame['Fourth_Wealth quintile'].nunique(dropna=False)"
   ]
  },
  {
   "cell_type": "code",
   "execution_count": 74,
   "id": "48107c0d",
   "metadata": {},
   "outputs": [
    {
     "data": {
      "text/plain": [
       "9.300653594771243"
      ]
     },
     "execution_count": 74,
     "metadata": {},
     "output_type": "execute_result"
    }
   ],
   "source": [
    "#Mean of the 15th column; Richest_Wealth quintile.\n",
    "super_data_frame['Richest_Wealth quintile'].mean()"
   ]
  },
  {
   "cell_type": "code",
   "execution_count": 75,
   "id": "e5337e0c",
   "metadata": {},
   "outputs": [
    {
     "data": {
      "text/plain": [
       "4.0"
      ]
     },
     "execution_count": 75,
     "metadata": {},
     "output_type": "execute_result"
    }
   ],
   "source": [
    "#Median of the 15th column; Richest_Wealth quintile.\n",
    "super_data_frame['Richest_Wealth quintile'].median()"
   ]
  },
  {
   "cell_type": "code",
   "execution_count": 76,
   "id": "5e4e8268",
   "metadata": {},
   "outputs": [
    {
     "data": {
      "text/plain": [
       "0    1.0\n",
       "dtype: float64"
      ]
     },
     "execution_count": 76,
     "metadata": {},
     "output_type": "execute_result"
    }
   ],
   "source": [
    "#Mode of the 15th column; Richest_Wealth quintile.\n",
    "super_data_frame['Richest_Wealth quintile'].mode()"
   ]
  },
  {
   "cell_type": "code",
   "execution_count": 77,
   "id": "4f4be8c6",
   "metadata": {},
   "outputs": [
    {
     "data": {
      "text/plain": [
       "12.074405917474278"
      ]
     },
     "execution_count": 77,
     "metadata": {},
     "output_type": "execute_result"
    }
   ],
   "source": [
    "#Standard Deviation of the 15th column; Richest_Wealth quintile.\n",
    "super_data_frame['Richest_Wealth quintile'].std()"
   ]
  },
  {
   "cell_type": "code",
   "execution_count": 78,
   "id": "9745874e",
   "metadata": {},
   "outputs": [
    {
     "name": "stdout",
     "output_type": "stream",
     "text": [
      "range is 63.0\n"
     ]
    }
   ],
   "source": [
    "#Range of the 15th column; Richest_Wealth quintile.\n",
    "print('range is', super_data_frame['Richest_Wealth quintile'].max() - super_data_frame['Richest_Wealth quintile'].min())"
   ]
  },
  {
   "cell_type": "code",
   "execution_count": 79,
   "id": "67c7eabf",
   "metadata": {},
   "outputs": [
    {
     "data": {
      "text/plain": [
       "47"
      ]
     },
     "execution_count": 79,
     "metadata": {},
     "output_type": "execute_result"
    }
   ],
   "source": [
    "#Number of unique values of the 15th column; Richest_Wealth quintile.\n",
    "super_data_frame['Richest_Wealth quintile'].nunique(dropna=False)"
   ]
  },
  {
   "cell_type": "code",
   "execution_count": 80,
   "id": "b4720f3e",
   "metadata": {},
   "outputs": [
    {
     "data": {
      "text/plain": [
       "0    MICS 2018\n",
       "dtype: object"
      ]
     },
     "execution_count": 80,
     "metadata": {},
     "output_type": "execute_result"
    }
   ],
   "source": [
    "#Mode of the 16th column; Data source.\n",
    "super_data_frame['Data source'].mode()"
   ]
  },
  {
   "cell_type": "code",
   "execution_count": 81,
   "id": "6638a0ef",
   "metadata": {},
   "outputs": [
    {
     "data": {
      "text/plain": [
       "43"
      ]
     },
     "execution_count": 81,
     "metadata": {},
     "output_type": "execute_result"
    }
   ],
   "source": [
    "#Number of unique values of the 16th column; Data source.\n",
    "super_data_frame['Data source'].nunique(dropna=False)"
   ]
  },
  {
   "cell_type": "code",
   "execution_count": 82,
   "id": "a11033ba",
   "metadata": {},
   "outputs": [
    {
     "data": {
      "text/plain": [
       "0    2018.0\n",
       "dtype: float64"
      ]
     },
     "execution_count": 82,
     "metadata": {},
     "output_type": "execute_result"
    }
   ],
   "source": [
    "#Mode of the 17th column; Time period.\n",
    "super_data_frame['Time period'].mode()"
   ]
  },
  {
   "cell_type": "code",
   "execution_count": 83,
   "id": "2a481786",
   "metadata": {},
   "outputs": [
    {
     "data": {
      "text/plain": [
       "11"
      ]
     },
     "execution_count": 83,
     "metadata": {},
     "output_type": "execute_result"
    }
   ],
   "source": [
    "#Number of unique values of the 17th column; Time period.\n",
    "super_data_frame['Time period'].nunique(dropna=False)"
   ]
  },
  {
   "cell_type": "code",
   "execution_count": 84,
   "id": "3bc02fce",
   "metadata": {},
   "outputs": [
    {
     "data": {
      "text/plain": [
       "False    606\n",
       "Name: ISO3, dtype: int64"
      ]
     },
     "execution_count": 84,
     "metadata": {},
     "output_type": "execute_result"
    }
   ],
   "source": [
    "#Checking for null values in ISO3.\n",
    "super_data_frame['ISO3'].isnull().value_counts()"
   ]
  },
  {
   "cell_type": "code",
   "execution_count": 85,
   "id": "0a764fdd",
   "metadata": {},
   "outputs": [
    {
     "data": {
      "text/plain": [
       "False    606\n",
       "Name: Countries and areas, dtype: int64"
      ]
     },
     "execution_count": 85,
     "metadata": {},
     "output_type": "execute_result"
    }
   ],
   "source": [
    "#Checking for null values in Countries and areas.\n",
    "super_data_frame['Countries and areas'].isnull().value_counts()"
   ]
  },
  {
   "cell_type": "code",
   "execution_count": 86,
   "id": "f57b4432",
   "metadata": {},
   "outputs": [
    {
     "data": {
      "text/plain": [
       "False    600\n",
       "True       6\n",
       "Name: Region, dtype: int64"
      ]
     },
     "execution_count": 86,
     "metadata": {},
     "output_type": "execute_result"
    }
   ],
   "source": [
    "#Checking for null values in Region.\n",
    "super_data_frame['Region'].isnull().value_counts()"
   ]
  },
  {
   "cell_type": "code",
   "execution_count": 87,
   "id": "8aeb44a9",
   "metadata": {},
   "outputs": [
    {
     "data": {
      "text/plain": [
       "False    600\n",
       "True       6\n",
       "Name: Sub-region, dtype: int64"
      ]
     },
     "execution_count": 87,
     "metadata": {},
     "output_type": "execute_result"
    }
   ],
   "source": [
    "#Checking for null values in Sub-region.\n",
    "super_data_frame['Sub-region'].isnull().value_counts()"
   ]
  },
  {
   "cell_type": "code",
   "execution_count": 88,
   "id": "32ab2082",
   "metadata": {},
   "outputs": [
    {
     "data": {
      "text/plain": [
       "False    606\n",
       "Name: Development Regions, dtype: int64"
      ]
     },
     "execution_count": 88,
     "metadata": {},
     "output_type": "execute_result"
    }
   ],
   "source": [
    "#Checking for null values in Development Regions.\n",
    "super_data_frame['Development Regions'].isnull().value_counts()"
   ]
  },
  {
   "cell_type": "code",
   "execution_count": 89,
   "id": "0aabe6ff",
   "metadata": {},
   "outputs": [
    {
     "data": {
      "text/plain": [
       "False    330\n",
       "True     276\n",
       "Name: Total, dtype: int64"
      ]
     },
     "execution_count": 89,
     "metadata": {},
     "output_type": "execute_result"
    }
   ],
   "source": [
    "#Checking for null values in Total.\n",
    "super_data_frame['Total'].isnull().value_counts()"
   ]
  },
  {
   "cell_type": "code",
   "execution_count": 90,
   "id": "e39db040",
   "metadata": {},
   "outputs": [
    {
     "data": {
      "text/plain": [
       "False    330\n",
       "True     276\n",
       "Name: Female, dtype: int64"
      ]
     },
     "execution_count": 90,
     "metadata": {},
     "output_type": "execute_result"
    }
   ],
   "source": [
    "#Checking for null values in Female.\n",
    "super_data_frame['Female'].isnull().value_counts()"
   ]
  },
  {
   "cell_type": "code",
   "execution_count": 91,
   "id": "3d95da83",
   "metadata": {},
   "outputs": [
    {
     "data": {
      "text/plain": [
       "False    330\n",
       "True     276\n",
       "Name: Male, dtype: int64"
      ]
     },
     "execution_count": 91,
     "metadata": {},
     "output_type": "execute_result"
    }
   ],
   "source": [
    "#Checking for null values in Male.\n",
    "super_data_frame['Male'].isnull().value_counts()"
   ]
  },
  {
   "cell_type": "code",
   "execution_count": 92,
   "id": "ed417d42",
   "metadata": {},
   "outputs": [
    {
     "data": {
      "text/plain": [
       "False    322\n",
       "True     284\n",
       "Name: Rural_Residence, dtype: int64"
      ]
     },
     "execution_count": 92,
     "metadata": {},
     "output_type": "execute_result"
    }
   ],
   "source": [
    "#Checking for null values in Rural_Residence.\n",
    "super_data_frame['Rural_Residence'].isnull().value_counts()"
   ]
  },
  {
   "cell_type": "code",
   "execution_count": 93,
   "id": "c5afbb2b",
   "metadata": {},
   "outputs": [
    {
     "data": {
      "text/plain": [
       "False    322\n",
       "True     284\n",
       "Name: Urban_Residence, dtype: int64"
      ]
     },
     "execution_count": 93,
     "metadata": {},
     "output_type": "execute_result"
    }
   ],
   "source": [
    "#Checking for null values in Urban_Residence.\n",
    "super_data_frame['Urban_Residence'].isnull().value_counts()"
   ]
  },
  {
   "cell_type": "code",
   "execution_count": 94,
   "id": "7cd774ec",
   "metadata": {},
   "outputs": [
    {
     "data": {
      "text/plain": [
       "False    306\n",
       "True     300\n",
       "Name: Poorest_Wealth quintile, dtype: int64"
      ]
     },
     "execution_count": 94,
     "metadata": {},
     "output_type": "execute_result"
    }
   ],
   "source": [
    "#Checking for null values in Poorest_Wealth quintile.\n",
    "super_data_frame['Poorest_Wealth quintile'].isnull().value_counts()"
   ]
  },
  {
   "cell_type": "code",
   "execution_count": 95,
   "id": "ef11ece1",
   "metadata": {},
   "outputs": [
    {
     "data": {
      "text/plain": [
       "False    306\n",
       "True     300\n",
       "Name: Second_Wealth quintile, dtype: int64"
      ]
     },
     "execution_count": 95,
     "metadata": {},
     "output_type": "execute_result"
    }
   ],
   "source": [
    "#Checking for null values in Second_Wealth quintile.\n",
    "super_data_frame['Second_Wealth quintile'].isnull().value_counts()"
   ]
  },
  {
   "cell_type": "code",
   "execution_count": 96,
   "id": "d90f8b56",
   "metadata": {},
   "outputs": [
    {
     "data": {
      "text/plain": [
       "False    306\n",
       "True     300\n",
       "Name: Middle_Wealth quintile, dtype: int64"
      ]
     },
     "execution_count": 96,
     "metadata": {},
     "output_type": "execute_result"
    }
   ],
   "source": [
    "#Checking for null values in Middle_Wealth quintile.\n",
    "super_data_frame['Middle_Wealth quintile'].isnull().value_counts()"
   ]
  },
  {
   "cell_type": "code",
   "execution_count": 97,
   "id": "c6680379",
   "metadata": {},
   "outputs": [
    {
     "data": {
      "text/plain": [
       "False    306\n",
       "True     300\n",
       "Name: Fourth_Wealth quintile, dtype: int64"
      ]
     },
     "execution_count": 97,
     "metadata": {},
     "output_type": "execute_result"
    }
   ],
   "source": [
    "#Checking for null values in Fourth_Wealth quintile.\n",
    "super_data_frame['Fourth_Wealth quintile'].isnull().value_counts()"
   ]
  },
  {
   "cell_type": "code",
   "execution_count": 98,
   "id": "093fc2d3",
   "metadata": {},
   "outputs": [
    {
     "data": {
      "text/plain": [
       "False    306\n",
       "True     300\n",
       "Name: Richest_Wealth quintile, dtype: int64"
      ]
     },
     "execution_count": 98,
     "metadata": {},
     "output_type": "execute_result"
    }
   ],
   "source": [
    "#Checking for null values in Richest_Wealth quintile.\n",
    "super_data_frame['Richest_Wealth quintile'].isnull().value_counts()"
   ]
  },
  {
   "cell_type": "code",
   "execution_count": 4,
   "id": "d1bb9070",
   "metadata": {},
   "outputs": [],
   "source": [
    "#Dropping two columns that aren't necessary for this purpose.\n",
    "#super_data_frame.drop(columns=['Data source', 'Time period'])"
   ]
  },
  {
   "cell_type": "code",
   "execution_count": 5,
   "id": "20d8be3f",
   "metadata": {},
   "outputs": [],
   "source": [
    "#Dropping rows where any null values exist in numerical data.\n",
    "#super_data_frame.dropna(how='any')"
   ]
  },
  {
   "cell_type": "code",
   "execution_count": 101,
   "id": "a4c1054a",
   "metadata": {},
   "outputs": [
    {
     "data": {
      "text/html": [
       "<div>\n",
       "<style scoped>\n",
       "    .dataframe tbody tr th:only-of-type {\n",
       "        vertical-align: middle;\n",
       "    }\n",
       "\n",
       "    .dataframe tbody tr th {\n",
       "        vertical-align: top;\n",
       "    }\n",
       "\n",
       "    .dataframe thead th {\n",
       "        text-align: right;\n",
       "    }\n",
       "</style>\n",
       "<table border=\"1\" class=\"dataframe\">\n",
       "  <thead>\n",
       "    <tr style=\"text-align: right;\">\n",
       "      <th></th>\n",
       "      <th>count</th>\n",
       "      <th>mean</th>\n",
       "      <th>std</th>\n",
       "      <th>min</th>\n",
       "      <th>25%</th>\n",
       "      <th>50%</th>\n",
       "      <th>75%</th>\n",
       "      <th>max</th>\n",
       "    </tr>\n",
       "  </thead>\n",
       "  <tbody>\n",
       "    <tr>\n",
       "      <th>Total</th>\n",
       "      <td>330.0</td>\n",
       "      <td>18.190909</td>\n",
       "      <td>18.599357</td>\n",
       "      <td>0.0</td>\n",
       "      <td>3.00</td>\n",
       "      <td>11.0</td>\n",
       "      <td>27.00</td>\n",
       "      <td>86.0</td>\n",
       "    </tr>\n",
       "    <tr>\n",
       "      <th>Female</th>\n",
       "      <td>330.0</td>\n",
       "      <td>18.881818</td>\n",
       "      <td>20.502679</td>\n",
       "      <td>0.0</td>\n",
       "      <td>3.00</td>\n",
       "      <td>10.0</td>\n",
       "      <td>29.00</td>\n",
       "      <td>91.0</td>\n",
       "    </tr>\n",
       "    <tr>\n",
       "      <th>Male</th>\n",
       "      <td>330.0</td>\n",
       "      <td>17.445455</td>\n",
       "      <td>17.129004</td>\n",
       "      <td>0.0</td>\n",
       "      <td>3.25</td>\n",
       "      <td>12.0</td>\n",
       "      <td>26.00</td>\n",
       "      <td>79.0</td>\n",
       "    </tr>\n",
       "    <tr>\n",
       "      <th>Rural_Residence</th>\n",
       "      <td>322.0</td>\n",
       "      <td>22.114907</td>\n",
       "      <td>21.867396</td>\n",
       "      <td>0.0</td>\n",
       "      <td>4.00</td>\n",
       "      <td>13.0</td>\n",
       "      <td>35.00</td>\n",
       "      <td>95.0</td>\n",
       "    </tr>\n",
       "    <tr>\n",
       "      <th>Urban_Residence</th>\n",
       "      <td>322.0</td>\n",
       "      <td>13.021739</td>\n",
       "      <td>13.619306</td>\n",
       "      <td>0.0</td>\n",
       "      <td>3.00</td>\n",
       "      <td>8.0</td>\n",
       "      <td>19.75</td>\n",
       "      <td>70.0</td>\n",
       "    </tr>\n",
       "    <tr>\n",
       "      <th>Poorest_Wealth quintile</th>\n",
       "      <td>306.0</td>\n",
       "      <td>29.614379</td>\n",
       "      <td>25.901990</td>\n",
       "      <td>0.0</td>\n",
       "      <td>6.00</td>\n",
       "      <td>23.5</td>\n",
       "      <td>46.00</td>\n",
       "      <td>99.0</td>\n",
       "    </tr>\n",
       "    <tr>\n",
       "      <th>Second_Wealth quintile</th>\n",
       "      <td>306.0</td>\n",
       "      <td>23.055556</td>\n",
       "      <td>23.248625</td>\n",
       "      <td>0.0</td>\n",
       "      <td>3.00</td>\n",
       "      <td>15.0</td>\n",
       "      <td>36.00</td>\n",
       "      <td>97.0</td>\n",
       "    </tr>\n",
       "    <tr>\n",
       "      <th>Middle_Wealth quintile</th>\n",
       "      <td>306.0</td>\n",
       "      <td>19.078431</td>\n",
       "      <td>20.788089</td>\n",
       "      <td>0.0</td>\n",
       "      <td>3.00</td>\n",
       "      <td>11.0</td>\n",
       "      <td>29.00</td>\n",
       "      <td>97.0</td>\n",
       "    </tr>\n",
       "    <tr>\n",
       "      <th>Fourth_Wealth quintile</th>\n",
       "      <td>306.0</td>\n",
       "      <td>14.617647</td>\n",
       "      <td>17.425275</td>\n",
       "      <td>0.0</td>\n",
       "      <td>2.00</td>\n",
       "      <td>7.0</td>\n",
       "      <td>21.00</td>\n",
       "      <td>92.0</td>\n",
       "    </tr>\n",
       "    <tr>\n",
       "      <th>Richest_Wealth quintile</th>\n",
       "      <td>306.0</td>\n",
       "      <td>9.300654</td>\n",
       "      <td>12.074406</td>\n",
       "      <td>0.0</td>\n",
       "      <td>1.00</td>\n",
       "      <td>4.0</td>\n",
       "      <td>13.00</td>\n",
       "      <td>63.0</td>\n",
       "    </tr>\n",
       "    <tr>\n",
       "      <th>Time period</th>\n",
       "      <td>330.0</td>\n",
       "      <td>2015.496970</td>\n",
       "      <td>2.567329</td>\n",
       "      <td>2010.0</td>\n",
       "      <td>2014.00</td>\n",
       "      <td>2016.0</td>\n",
       "      <td>2018.00</td>\n",
       "      <td>2019.0</td>\n",
       "    </tr>\n",
       "  </tbody>\n",
       "</table>\n",
       "</div>"
      ],
      "text/plain": [
       "                         count         mean        std     min      25%  \\\n",
       "Total                    330.0    18.190909  18.599357     0.0     3.00   \n",
       "Female                   330.0    18.881818  20.502679     0.0     3.00   \n",
       "Male                     330.0    17.445455  17.129004     0.0     3.25   \n",
       "Rural_Residence          322.0    22.114907  21.867396     0.0     4.00   \n",
       "Urban_Residence          322.0    13.021739  13.619306     0.0     3.00   \n",
       "Poorest_Wealth quintile  306.0    29.614379  25.901990     0.0     6.00   \n",
       "Second_Wealth quintile   306.0    23.055556  23.248625     0.0     3.00   \n",
       "Middle_Wealth quintile   306.0    19.078431  20.788089     0.0     3.00   \n",
       "Fourth_Wealth quintile   306.0    14.617647  17.425275     0.0     2.00   \n",
       "Richest_Wealth quintile  306.0     9.300654  12.074406     0.0     1.00   \n",
       "Time period              330.0  2015.496970   2.567329  2010.0  2014.00   \n",
       "\n",
       "                            50%      75%     max  \n",
       "Total                      11.0    27.00    86.0  \n",
       "Female                     10.0    29.00    91.0  \n",
       "Male                       12.0    26.00    79.0  \n",
       "Rural_Residence            13.0    35.00    95.0  \n",
       "Urban_Residence             8.0    19.75    70.0  \n",
       "Poorest_Wealth quintile    23.5    46.00    99.0  \n",
       "Second_Wealth quintile     15.0    36.00    97.0  \n",
       "Middle_Wealth quintile     11.0    29.00    97.0  \n",
       "Fourth_Wealth quintile      7.0    21.00    92.0  \n",
       "Richest_Wealth quintile     4.0    13.00    63.0  \n",
       "Time period              2016.0  2018.00  2019.0  "
      ]
     },
     "execution_count": 101,
     "metadata": {},
     "output_type": "execute_result"
    }
   ],
   "source": [
    "super_data_frame.describe().T"
   ]
  }
 ],
 "metadata": {
  "kernelspec": {
   "display_name": "Python 3",
   "language": "python",
   "name": "python3"
  },
  "language_info": {
   "codemirror_mode": {
    "name": "ipython",
    "version": 3
   },
   "file_extension": ".py",
   "mimetype": "text/x-python",
   "name": "python",
   "nbconvert_exporter": "python",
   "pygments_lexer": "ipython3",
   "version": "3.8.8"
  }
 },
 "nbformat": 4,
 "nbformat_minor": 5
}
